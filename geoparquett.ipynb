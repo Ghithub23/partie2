{
  "nbformat": 4,
  "nbformat_minor": 0,
  "metadata": {
    "colab": {
      "provenance": []
    },
    "kernelspec": {
      "name": "python3",
      "display_name": "Python 3"
    },
    "language_info": {
      "name": "python"
    }
  },
  "cells": [
    {
      "cell_type": "markdown",
      "source": [
        "**carte des voies ferrées**"
      ],
      "metadata": {
        "id": "322jmqXcR0GL"
      }
    },
    {
      "cell_type": "code",
      "source": [
        "import geopandas as gpd\n",
        "import requests\n",
        "import folium\n",
        "from io import BytesIO\n",
        "\n",
        "# URLs des fichiers GeoParquet\n",
        "url_voies_ferrees = \"https://github.com/Ghithub23/final/raw/main/voies_ferrees.parquet\"\n",
        "\n",
        "# Fonction pour charger un GeoParquet depuis une URL\n",
        "def load_geoparquet(url):\n",
        "    response = requests.get(url)\n",
        "    response.raise_for_status()  # Vérifie que la réponse est valide\n",
        "    return gpd.read_parquet(BytesIO(response.content))\n",
        "\n",
        "# Charger les GeoParquets\n",
        "gdf_voies_ferrees = load_geoparquet(url_voies_ferrees)\n",
        "\n",
        "# Afficher les colonnes disponibles dans chaque GeoParquet\n",
        "print(\"Colonnes dans le fichier 'voies_ferrees' :\", gdf_voies_ferrees.columns)\n",
        "\n",
        "# Mettre à jour les limites géographiques au Maroc\n",
        "gdf_voies_ferrees = gdf_voies_ferrees.cx[-17.0:-1.0, 21.0:36.0]\n",
        "\n",
        "# Create the Folium map object here before the loop\n",
        "# Calculate center coordinates\n",
        "center_coords = [\n",
        "    gdf_voies_ferrees.geometry.centroid.y.mean(),  # Use gdf_voies_ferrees for center\n",
        "    gdf_voies_ferrees.geometry.centroid.x.mean()\n",
        "]\n",
        "m = folium.Map(location=center_coords, zoom_start=6)\n",
        "\n",
        "# Palette de couleurs pour les voies ferrées\n",
        "railway_color_map = {\n",
        "    \"rail\": \"red\",\n",
        "    \"tram\": \"brown\"\n",
        "}\n",
        "\n",
        "\n",
        "# Ajouter les voies ferrées avec des couleurs spécifiques\n",
        "for _, row in gdf_voies_ferrees.iterrows():\n",
        "    # Récupérer la couleur basée sur 'fclass'\n",
        "    color = railway_color_map.get(row['fclass'], \"darkgray\")  # Gris foncé par défaut si type inconnu\n",
        "    folium.GeoJson(\n",
        "        row.geometry.__geo_interface__,\n",
        "        style_function=lambda feature, color=color: {\n",
        "            'color': color,\n",
        "            'weight': 2\n",
        "        }\n",
        "    ).add_to(m)\n",
        "\n",
        "# Créer une légende combinée pour les bâtiments et les voies ferrées\n",
        "legend_html = \"\"\"\n",
        "<div style=\"\n",
        "    position: fixed;\n",
        "    bottom: 50px; left: 50px; width: 250px; height: auto;\n",
        "    z-index: 1000; background-color: white;\n",
        "    padding: 10px; border: 2px solid black; border-radius: 5px;\n",
        "\">\n",
        "    <h4>Légende</h4>\n",
        "    <h5>Voies Ferrées</h5>\n",
        "    <ul style=\"list-style-type: none; padding-left: 0;\">\n",
        "\"\"\"\n",
        "for t, color in railway_color_map.items():\n",
        "    legend_html += f\"\"\"\n",
        "        <li style=\"margin-bottom: 5px;\">\n",
        "            <span style=\"display: inline-block; width: 20px; height: 20px; background-color: {color}; margin-right: 5px;\"></span>\n",
        "            {t}\n",
        "        </li>\n",
        "    \"\"\"\n",
        "legend_html += \"\"\"\n",
        "    </ul>\n",
        "</div>\n",
        "\"\"\"\n",
        "\n",
        "# Ajouter la légende à la carte\n",
        "m.get_root().html.add_child(folium.Element(legend_html))\n",
        "\n",
        "# Sauvegarder la carte interactive au format HTML\n",
        "m.save(\"mapvoiesferrees.html\")\n",
        "print(\"Carte interactive sauvegardée sous 'mapvoiesferrees.html'\")"
      ],
      "metadata": {
        "colab": {
          "base_uri": "https://localhost:8080/"
        },
        "id": "GKYVwLsFRzw7",
        "outputId": "b0de2be1-7cf0-493a-e6a3-6bceb9a55754"
      },
      "execution_count": null,
      "outputs": [
        {
          "output_type": "stream",
          "name": "stdout",
          "text": [
            "Colonnes dans le fichier 'voies_ferrees' : Index(['osm_id', 'code', 'fclass', 'name', 'layer', 'bridge', 'tunnel',\n",
            "       'geometry'],\n",
            "      dtype='object')\n"
          ]
        },
        {
          "output_type": "stream",
          "name": "stderr",
          "text": [
            "<ipython-input-3-fd2b96321357>:27: UserWarning: Geometry is in a geographic CRS. Results from 'centroid' are likely incorrect. Use 'GeoSeries.to_crs()' to re-project geometries to a projected CRS before this operation.\n",
            "\n",
            "  gdf_voies_ferrees.geometry.centroid.y.mean(),  # Use gdf_voies_ferrees for center\n",
            "<ipython-input-3-fd2b96321357>:28: UserWarning: Geometry is in a geographic CRS. Results from 'centroid' are likely incorrect. Use 'GeoSeries.to_crs()' to re-project geometries to a projected CRS before this operation.\n",
            "\n",
            "  gdf_voies_ferrees.geometry.centroid.x.mean()\n"
          ]
        },
        {
          "output_type": "stream",
          "name": "stdout",
          "text": [
            "Carte interactive sauvegardée sous 'mapvoiesferrees.html'\n"
          ]
        }
      ]
    },
    {
      "cell_type": "markdown",
      "source": [
        "**carte de batiments**"
      ],
      "metadata": {
        "id": "zTTrRKV1V_5B"
      }
    },
    {
      "cell_type": "code",
      "source": [
        "import geopandas as gpd\n",
        "import requests\n",
        "import folium\n",
        "from io import BytesIO\n",
        "\n",
        "# URLs des fichiers GeoParquet\n",
        "\n",
        "url_buildings = \"https://github.com/Ghithub23/final/raw/main/fichier_random_1000_buildings.geo.parquet\"\n",
        "\n",
        "# Fonction pour charger un GeoParquet depuis une URL\n",
        "def load_geoparquet(url):\n",
        "    response = requests.get(url)\n",
        "    response.raise_for_status()  # Vérifie que la réponse est valide\n",
        "    return gpd.read_parquet(BytesIO(response.content))\n",
        "\n",
        "# Charger les GeoParquets\n",
        "gdf_buildings = load_geoparquet(url_buildings)\n",
        "\n",
        "# Afficher les colonnes disponibles dans chaque GeoParquet\n",
        "print(\"Colonnes dans le fichier 'buildings' :\", gdf_buildings.columns)\n",
        "\n",
        "# Mettre à jour les limites géographiques au Maroc\n",
        "gdf_buildings = gdf_buildings.cx[-17.0:-1.0, 21.0:36.0]\n",
        "\n",
        "# Créer une carte Folium centrée sur le Maroc\n",
        "center_coords = [\n",
        "    gdf_buildings.geometry.centroid.y.mean(),\n",
        "    gdf_buildings.geometry.centroid.x.mean()\n",
        "]\n",
        "m = folium.Map(location=center_coords, zoom_start=6)\n",
        "\n",
        "# Palette de couleurs pour les bâtiments\n",
        "color_palette_buildings = [\n",
        "    \"red\", \"blue\", \"green\", \"yellow\", \"orange\", \"purple\",\n",
        "    \"cyan\", \"magenta\", \"lime\", \"pink\"\n",
        "]\n",
        "unique_building_types = gdf_buildings['type'].dropna().unique()\n",
        "building_color_map = {t: color_palette_buildings[i % len(color_palette_buildings)] for i, t in enumerate(unique_building_types)}\n",
        "\n",
        "\n",
        "# Ajouter les bâtiments avec des couleurs spécifiques et une bordure plus épaisse\n",
        "for _, row in gdf_buildings.iterrows():\n",
        "    color = building_color_map.get(row['type'], \"gray\")  # Gris par défaut si type inconnu\n",
        "    folium.GeoJson(\n",
        "        row.geometry.__geo_interface__,\n",
        "        style_function=lambda feature, color=color: {\n",
        "            'fillColor': color,\n",
        "            'color': color,\n",
        "            'weight': 3,  # Bordure plus épaisse\n",
        "            'fillOpacity': 0.6\n",
        "        }\n",
        "    ).add_to(m)\n",
        "\n",
        "\n",
        "# Créer une légende combinée pour les bâtiments et les voies ferrées\n",
        "legend_html = \"\"\"\n",
        "<div style=\"\n",
        "    position: fixed;\n",
        "    bottom: 50px; left: 50px; width: 250px; height: auto;\n",
        "    z-index: 1000; background-color: white;\n",
        "    padding: 10px; border: 2px solid black; border-radius: 5px;\n",
        "\">\n",
        "    <h4>Légende</h4>\n",
        "    <h5>Bâtiments</h5>\n",
        "    <ul style=\"list-style-type: none; padding-left: 0;\">\n",
        "\"\"\"\n",
        "for t, color in building_color_map.items():\n",
        "    legend_html += f\"\"\"\n",
        "        <li style=\"margin-bottom: 5px;\">\n",
        "            <span style=\"display: inline-block; width: 20px; height: 20px; background-color: {color}; margin-right: 5px;\"></span>\n",
        "            {t}\n",
        "        </li>\n",
        "    \"\"\"\n",
        "</div>\n",
        "\"\"\"\n",
        "\n",
        "# Ajouter la légende à la carte\n",
        "m.get_root().html.add_child(folium.Element(legend_html))\n",
        "\n",
        "# Sauvegarder la carte interactive au format HTML\n",
        "m.save(\"mapbuildings.html\")\n",
        "print(\"Carte interactive sauvegardée sous 'mapbuildings.html'\")\n"
      ],
      "metadata": {
        "id": "u1uOQmCQV_m_"
      },
      "execution_count": null,
      "outputs": []
    },
    {
      "cell_type": "markdown",
      "source": [
        "**tri de la couche buildings en ne gardant que les bâtiments classifiés**"
      ],
      "metadata": {
        "id": "HhgyONhni7ey"
      }
    },
    {
      "cell_type": "code",
      "source": [
        "import geopandas as gpd\n",
        "\n",
        "# Charger le fichier GeoParquet\n",
        "input_file = \"/content/buildings_parq.parquet\"\n",
        "gdf = gpd.read_parquet(input_file)\n",
        "\n",
        "# Filtrer les éléments dont la colonne 'type' est remplie\n",
        "filtered_gdf = gdf[gdf['type'].notna() & (gdf['type'] != \"\")]\n",
        "\n",
        "# Enregistrer le résultat dans un nouveau fichier GeoParquet\n",
        "output_file = \"/content//buildings_filtré.parquet\"\n",
        "filtered_gdf.to_parquet(output_file)\n",
        "\n",
        "print(f\"Fichier filtré enregistré sous : {output_file}\")\n"
      ],
      "metadata": {
        "colab": {
          "base_uri": "https://localhost:8080/"
        },
        "id": "_5ZlhAQ2i6TR",
        "outputId": "c7c01693-b897-4690-daa6-3372b12b547b"
      },
      "execution_count": null,
      "outputs": [
        {
          "output_type": "stream",
          "name": "stdout",
          "text": [
            "Fichier filtré enregistré sous : /content//buildings_filtré.parquet\n"
          ]
        }
      ]
    },
    {
      "cell_type": "markdown",
      "source": [
        "**carte de batiments triés**"
      ],
      "metadata": {
        "id": "equBrfpTzsZy"
      }
    },
    {
      "cell_type": "code",
      "source": [
        "pip install geopandas folium requests pyarrow\n"
      ],
      "metadata": {
        "collapsed": true,
        "colab": {
          "base_uri": "https://localhost:8080/"
        },
        "id": "TGHmtYH_21u_",
        "outputId": "07dd12b9-498a-47b5-a405-4a16a7a52899"
      },
      "execution_count": null,
      "outputs": [
        {
          "output_type": "stream",
          "name": "stdout",
          "text": [
            "Requirement already satisfied: geopandas in /usr/local/lib/python3.10/dist-packages (1.0.1)\n",
            "Requirement already satisfied: folium in /usr/local/lib/python3.10/dist-packages (0.18.0)\n",
            "Requirement already satisfied: requests in /usr/local/lib/python3.10/dist-packages (2.32.3)\n",
            "Requirement already satisfied: pyarrow in /usr/local/lib/python3.10/dist-packages (17.0.0)\n",
            "Requirement already satisfied: numpy>=1.22 in /usr/local/lib/python3.10/dist-packages (from geopandas) (1.26.4)\n",
            "Requirement already satisfied: pyogrio>=0.7.2 in /usr/local/lib/python3.10/dist-packages (from geopandas) (0.10.0)\n",
            "Requirement already satisfied: packaging in /usr/local/lib/python3.10/dist-packages (from geopandas) (24.2)\n",
            "Requirement already satisfied: pandas>=1.4.0 in /usr/local/lib/python3.10/dist-packages (from geopandas) (2.2.2)\n",
            "Requirement already satisfied: pyproj>=3.3.0 in /usr/local/lib/python3.10/dist-packages (from geopandas) (3.7.0)\n",
            "Requirement already satisfied: shapely>=2.0.0 in /usr/local/lib/python3.10/dist-packages (from geopandas) (2.0.6)\n",
            "Requirement already satisfied: branca>=0.6.0 in /usr/local/lib/python3.10/dist-packages (from folium) (0.8.0)\n",
            "Requirement already satisfied: jinja2>=2.9 in /usr/local/lib/python3.10/dist-packages (from folium) (3.1.4)\n",
            "Requirement already satisfied: xyzservices in /usr/local/lib/python3.10/dist-packages (from folium) (2024.9.0)\n",
            "Requirement already satisfied: charset-normalizer<4,>=2 in /usr/local/lib/python3.10/dist-packages (from requests) (3.4.0)\n",
            "Requirement already satisfied: idna<4,>=2.5 in /usr/local/lib/python3.10/dist-packages (from requests) (3.10)\n",
            "Requirement already satisfied: urllib3<3,>=1.21.1 in /usr/local/lib/python3.10/dist-packages (from requests) (2.2.3)\n",
            "Requirement already satisfied: certifi>=2017.4.17 in /usr/local/lib/python3.10/dist-packages (from requests) (2024.8.30)\n",
            "Requirement already satisfied: MarkupSafe>=2.0 in /usr/local/lib/python3.10/dist-packages (from jinja2>=2.9->folium) (3.0.2)\n",
            "Requirement already satisfied: python-dateutil>=2.8.2 in /usr/local/lib/python3.10/dist-packages (from pandas>=1.4.0->geopandas) (2.8.2)\n",
            "Requirement already satisfied: pytz>=2020.1 in /usr/local/lib/python3.10/dist-packages (from pandas>=1.4.0->geopandas) (2024.2)\n",
            "Requirement already satisfied: tzdata>=2022.7 in /usr/local/lib/python3.10/dist-packages (from pandas>=1.4.0->geopandas) (2024.2)\n",
            "Requirement already satisfied: six>=1.5 in /usr/local/lib/python3.10/dist-packages (from python-dateutil>=2.8.2->pandas>=1.4.0->geopandas) (1.16.0)\n"
          ]
        }
      ]
    },
    {
      "cell_type": "code",
      "source": [
        "import geopandas as gpd\n",
        "\n",
        "# Charger le fichier GeoParquet\n",
        "gdf = gpd.read_parquet(\"buildings_filtré.parquet\")\n",
        "\n",
        "# Sélectionner 2000 éléments aléatoires\n",
        "gdf_sampled = gdf.sample(n=2000, random_state=42) if len(gdf) > 2000 else gdf\n",
        "\n",
        "# Sauvegarder le résultat\n",
        "gdf_sampled.to_parquet(\"buildings_sampled.parquet\", engine=\"pyarrow\")\n",
        "\n",
        "print(\"Échantillon sauvegardé dans 'buildings_sampled.parquet'.\")\n"
      ],
      "metadata": {
        "colab": {
          "base_uri": "https://localhost:8080/"
        },
        "id": "5mQVjBaH5SAF",
        "outputId": "029025b4-30d8-413e-9f05-b61f6d4a32cd"
      },
      "execution_count": null,
      "outputs": [
        {
          "output_type": "stream",
          "name": "stdout",
          "text": [
            "Échantillon sauvegardé dans 'buildings_sampled.parquet'.\n"
          ]
        }
      ]
    },
    {
      "cell_type": "code",
      "source": [
        "import geopandas as gpd\n",
        "import requests\n",
        "import matplotlib.pyplot as plt\n",
        "import folium\n",
        "from io import BytesIO\n",
        "\n",
        "# URL de votre fichier GeoParquet\n",
        "url = \"https://github.com/Ghithub23/final/raw/main/buildings_sampled.parquet\"\n",
        "\n",
        "# Étape 1 : Télécharger le fichier GeoParquet en mémoire\n",
        "response = requests.get(url)\n",
        "response.raise_for_status()  # Vérifie que la réponse est valide\n",
        "\n",
        "# Charger dans un GeoDataFrame en utilisant BytesIO\n",
        "gdf = gpd.read_parquet(BytesIO(response.content))\n",
        "\n",
        "# Afficher les colonnes du GeoParquet\n",
        "print(\"Colonnes disponibles dans le fichier GeoParquet :\")\n",
        "print(gdf.columns)\n",
        "\n",
        "# Mettre à jour les limites géographiques au Maroc\n",
        "gdf = gdf.cx[-17.0:-1.0, 21.0:36.0]\n",
        "\n",
        "# Étape 3 : Visualisation interactive avec Folium\n",
        "# Calcul des coordonnées centrales\n",
        "center_coords = [\n",
        "    gdf.geometry.centroid.y.mean(),\n",
        "    gdf.geometry.centroid.x.mean()\n",
        "]\n",
        "m = folium.Map(location=center_coords, zoom_start=6)\n",
        "\n",
        "# Ajouter les entités GeoJSON à la carte\n",
        "for _, row in gdf.iterrows():\n",
        "    # Access the __geo_interface__ attribute directly from the geometry object\n",
        "    folium.GeoJson(row.geometry.__geo_interface__).add_to(m)\n",
        "\n",
        "# Enregistrer la carte interactive au format HTML\n",
        "m.save(\"geo_parquet_map_1.html\")\n",
        "print(\"Carte interactive sauvegardée sous 'geo_parquet_map_1.html'\")"
      ],
      "metadata": {
        "colab": {
          "base_uri": "https://localhost:8080/"
        },
        "id": "7XzYUpR76xWb",
        "outputId": "63d98852-7834-49d0-8e37-0d85fafad51f"
      },
      "execution_count": null,
      "outputs": [
        {
          "output_type": "stream",
          "name": "stdout",
          "text": [
            "Colonnes disponibles dans le fichier GeoParquet :\n",
            "Index(['osm_id', 'code', 'fclass', 'name', 'type', 'geometry'], dtype='object')\n"
          ]
        },
        {
          "output_type": "stream",
          "name": "stderr",
          "text": [
            "<ipython-input-20-31ff3fad754d>:27: UserWarning: Geometry is in a geographic CRS. Results from 'centroid' are likely incorrect. Use 'GeoSeries.to_crs()' to re-project geometries to a projected CRS before this operation.\n",
            "\n",
            "  gdf.geometry.centroid.y.mean(),\n",
            "<ipython-input-20-31ff3fad754d>:28: UserWarning: Geometry is in a geographic CRS. Results from 'centroid' are likely incorrect. Use 'GeoSeries.to_crs()' to re-project geometries to a projected CRS before this operation.\n",
            "\n",
            "  gdf.geometry.centroid.x.mean()\n"
          ]
        },
        {
          "output_type": "stream",
          "name": "stdout",
          "text": [
            "Carte interactive sauvegardée sous 'geo_parquet_map_1.html'\n"
          ]
        }
      ]
    },
    {
      "cell_type": "markdown",
      "source": [
        "**Amélioration de l'affichage de la légende**"
      ],
      "metadata": {
        "id": "IEkpbXAAJF9s"
      }
    },
    {
      "cell_type": "code",
      "source": [
        "import geopandas as gpd\n",
        "import requests\n",
        "import folium\n",
        "from io import BytesIO\n",
        "\n",
        "# URL de votre fichier GeoParquet\n",
        "url = \"https://github.com/Ghithub23/final/raw/main/buildings_sampled.parquet\"\n",
        "\n",
        "# Étape 1 : Télécharger le fichier GeoParquet en mémoire\n",
        "response = requests.get(url)\n",
        "response.raise_for_status()  # Vérifie que la réponse est valide\n",
        "\n",
        "# Charger dans un GeoDataFrame en utilisant BytesIO\n",
        "gdf = gpd.read_parquet(BytesIO(response.content))\n",
        "\n",
        "# Afficher les colonnes du GeoParquet\n",
        "print(\"Colonnes disponibles dans le fichier GeoParquet :\")\n",
        "print(gdf.columns)\n",
        "\n",
        "# Mettre à jour les limites géographiques au Maroc\n",
        "gdf = gdf.cx[-17.0:-1.0, 21.0:36.0]\n",
        "\n",
        "# Filtrer les types pour ne garder que les éléments mentionnés\n",
        "valid_types = ['apartements', 'commercial', 'greenhouse', 'house', 'industrial', 'residential', 'roof', 'ruins', 'school']\n",
        "gdf_filtered = gdf[gdf['type'].isin(valid_types)]\n",
        "\n",
        "# Étape 2 : Créer une carte Folium\n",
        "# Calcul des coordonnées centrales\n",
        "center_coords = [\n",
        "    gdf_filtered.geometry.centroid.y.mean(),\n",
        "    gdf_filtered.geometry.centroid.x.mean()\n",
        "]\n",
        "m = folium.Map(location=center_coords, zoom_start=6)\n",
        "\n",
        "# Palette de couleurs pour les types filtrés\n",
        "color_palette = [\n",
        "    \"red\", \"brown\", \"green\", \"blue\", \"orange\", \"purple\",\n",
        "    \"cyan\", \"magenta\", \"lime\", \"pink\"\n",
        "]\n",
        "\n",
        "# Associer chaque type unique à une couleur de la palette\n",
        "color_map = {t: color_palette[i % len(color_palette)] for i, t in enumerate(valid_types)}\n",
        "\n",
        "# Étape 3 : Ajouter les entités GeoJSON à la carte avec couleurs\n",
        "for _, row in gdf_filtered.iterrows():\n",
        "    # Récupérer la couleur en fonction du type\n",
        "    color = color_map.get(row['type'], \"gray\")  # Gris par défaut si type inconnu\n",
        "\n",
        "    # Ajouter le GeoJSON avec une couleur personnalisée\n",
        "    folium.GeoJson(\n",
        "        row.geometry.__geo_interface__,\n",
        "        style_function=lambda feature, color=color: {\n",
        "            'fillColor': color,\n",
        "            'color': color,\n",
        "            'weight': 3,  # Augmenter l'épaisseur de la bordure\n",
        "            'fillOpacity': 0.6\n",
        "        }\n",
        "    ).add_to(m)\n",
        "\n",
        "# Étape 4 : Ajouter une légende en deux parties\n",
        "legend_html = \"\"\"\n",
        "<div style=\"\n",
        "    position: fixed;\n",
        "    bottom: 50px; left: 50px; width: 250px; height: auto;\n",
        "    z-index: 1000; background-color: white;\n",
        "    padding: 10px; border: 2px solid black; border-radius: 5px;\n",
        "\">\n",
        "    <h4>Types de bâtiments (1/2)</h4>\n",
        "    <ul style=\"list-style-type: none; padding-left: 0;\">\n",
        "\"\"\"\n",
        "\n",
        "# Diviser la légende en deux parties\n",
        "mid_index = len(color_map) // 2\n",
        "first_half = list(color_map.items())[:mid_index]\n",
        "second_half = list(color_map.items())[mid_index:]\n",
        "\n",
        "# Ajouter les types dans la première moitié\n",
        "for t, color in first_half:\n",
        "    legend_html += f\"\"\"\n",
        "        <li style=\"margin-bottom: 5px;\">\n",
        "            <span style=\"display: inline-block; width: 20px; height: 20px; background-color: {color}; margin-right: 5px;\"></span>\n",
        "            {t}\n",
        "        </li>\n",
        "    \"\"\"\n",
        "legend_html += \"</ul></div>\"\n",
        "\n",
        "# Ajouter la deuxième partie de la légende\n",
        "legend_html_2 = \"\"\"\n",
        "<div style=\"\n",
        "    position: fixed;\n",
        "    bottom: 50px; left: 320px; width: 250px; height: auto;\n",
        "    z-index: 1000; background-color: white;\n",
        "    padding: 10px; border: 2px solid black; border-radius: 5px;\n",
        "\">\n",
        "    <h4>Types de bâtiments (2/2)</h4>\n",
        "    <ul style=\"list-style-type: none; padding-left: 0;\">\n",
        "\"\"\"\n",
        "for t, color in second_half:\n",
        "    legend_html_2 += f\"\"\"\n",
        "        <li style=\"margin-bottom: 5px;\">\n",
        "            <span style=\"display: inline-block; width: 20px; height: 20px; background-color: {color}; margin-right: 5px;\"></span>\n",
        "            {t}\n",
        "        </li>\n",
        "    \"\"\"\n",
        "legend_html_2 += \"</ul></div>\"\n",
        "\n",
        "# Ajouter les légendes à la carte\n",
        "m.get_root().html.add_child(folium.Element(legend_html))\n",
        "m.get_root().html.add_child(folium.Element(legend_html_2))\n",
        "\n",
        "# Étape 5 : Sauvegarder la carte interactive au format HTML\n",
        "m.save(\"geo_parquet_map_filtered_with_split_legend.html\")\n",
        "print(\"Carte interactive sauvegardée sous 'geo_parquet_map_filtered_with_split_legend.html'\")\n"
      ],
      "metadata": {
        "colab": {
          "base_uri": "https://localhost:8080/"
        },
        "id": "JHqIe1J57pOX",
        "outputId": "1e6d4b54-cd3f-4079-894c-bc9e478aa928"
      },
      "execution_count": null,
      "outputs": [
        {
          "output_type": "stream",
          "name": "stdout",
          "text": [
            "Colonnes disponibles dans le fichier GeoParquet :\n",
            "Index(['osm_id', 'code', 'fclass', 'name', 'type', 'geometry'], dtype='object')\n"
          ]
        },
        {
          "output_type": "stream",
          "name": "stderr",
          "text": [
            "<ipython-input-27-c1a43503d6ba>:30: UserWarning: Geometry is in a geographic CRS. Results from 'centroid' are likely incorrect. Use 'GeoSeries.to_crs()' to re-project geometries to a projected CRS before this operation.\n",
            "\n",
            "  gdf_filtered.geometry.centroid.y.mean(),\n",
            "<ipython-input-27-c1a43503d6ba>:31: UserWarning: Geometry is in a geographic CRS. Results from 'centroid' are likely incorrect. Use 'GeoSeries.to_crs()' to re-project geometries to a projected CRS before this operation.\n",
            "\n",
            "  gdf_filtered.geometry.centroid.x.mean()\n"
          ]
        },
        {
          "output_type": "stream",
          "name": "stdout",
          "text": [
            "Carte interactive sauvegardée sous 'geo_parquet_map_filtered_with_split_legend.html'\n"
          ]
        }
      ]
    }
  ]
}